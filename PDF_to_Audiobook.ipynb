{
  "cells": [
    {
      "cell_type": "markdown",
      "metadata": {},
      "source": [
        "# **Note**\n",
        "The installation written in this notebook caters to LinuxOS, so it works well for Linux and the Cloud, but not Windows or MacOS."
      ]
    },
    {
      "cell_type": "code",
      "execution_count": 17,
      "metadata": {
        "colab": {
          "base_uri": "https://localhost:8080/"
        },
        "id": "zfLa5Y_Pi-mu",
        "outputId": "088327c4-5ecf-4973-d7a0-53b8d9523033"
      },
      "outputs": [
        {
          "name": "stdout",
          "output_type": "stream",
          "text": [
            "\n",
            "\n",
            "\n",
            "libpoppler-cpp-dev is already the newest version (0.86.1-0ubuntu1).\n",
            "0 upgraded, 0 newly installed, 0 to remove and 0 not upgraded.\n",
            "Defaulting to user installation because normal site-packages is not writeable\n",
            "Requirement already satisfied: pdftotext in /home/minh/.local/lib/python3.8/site-packages (2.1.5)\n",
            "Requirement already satisfied: gtts in /home/minh/.local/lib/python3.8/site-packages (2.2.2)\n",
            "Requirement already satisfied: click in /usr/lib/python3/dist-packages (from gtts) (7.0)\n",
            "Requirement already satisfied: six in /usr/lib/python3/dist-packages (from gtts) (1.14.0)\n",
            "Requirement already satisfied: requests in /usr/lib/python3/dist-packages (from gtts) (2.22.0)\n"
          ]
        }
      ],
      "source": [
        "# Install dependencies for pdftotext\n",
        "!apt install -y libpoppler-cpp-dev\n",
        "\n",
        "# Install dependencies for tkinter\n",
        "!apt install -y python3-tk\n",
        "\n",
        "# Install the rest\n",
        "# For more info about pdftotext: https://pypi.org/project/pdftotext/\n",
        "# For more info about gtts: https://pypi.org/project/gTTS/\n",
        "!pip install pdftotext gtts"
      ]
    },
    {
      "cell_type": "code",
      "execution_count": 2,
      "metadata": {
        "id": "URpYVh8bg4WW"
      },
      "outputs": [],
      "source": [
        "import pdftotext        # pdftotext: read PDF\n",
        "from gtts import gTTS   # gTTS: convert text to MP3\n",
        "\n",
        "# Import tkinter to browse for file\n",
        "from tkinter import Tk\n",
        "from tkinter.filedialog import askopenfilename"
      ]
    },
    {
      "cell_type": "code",
      "execution_count": 19,
      "metadata": {},
      "outputs": [
        {
          "name": "stdout",
          "output_type": "stream",
          "text": [
            "/home/minh/Downloads/sample.pdf\n"
          ]
        }
      ],
      "source": [
        "# Browse for pdf file\n",
        "Tk().withdraw()\n",
        "filename = askopenfilename()\n",
        "\n",
        "# Print the path out to confirm\n",
        "print(filename)"
      ]
    },
    {
      "cell_type": "code",
      "execution_count": 20,
      "metadata": {
        "colab": {
          "base_uri": "https://localhost:8080/"
        },
        "id": "CICT2sofg6zV",
        "outputId": "b7a7226e-c706-4d07-a247-fe1881b8dc2b"
      },
      "outputs": [
        {
          "name": "stdout",
          "output_type": "stream",
          "text": [
            "\n",
            "Total pages of the PDF file = 2\n"
          ]
        }
      ],
      "source": [
        "# Load the PDF out\n",
        "book = open(filename, 'rb')\n",
        "pdf_data = pdftotext.PDF(book)\n",
        "\n",
        "# Print the number of pages to check for accuracy\n",
        "total_pages = len(pdf_data)\n",
        "print(f\"\\nTotal pages of the PDF file = {total_pages}\")"
      ]
    },
    {
      "cell_type": "code",
      "execution_count": 21,
      "metadata": {
        "colab": {
          "base_uri": "https://localhost:8080/"
        },
        "id": "9Np1JHDBhD4t",
        "outputId": "ad2233f2-9d04-4490-dd08-df7958cd9e02"
      },
      "outputs": [
        {
          "name": "stdout",
          "output_type": "stream",
          "text": [
            "Simple PDF File 2\n",
            "...continued from page 1. Yet more text. And more text. And more text.\n",
            "And more text. And more text. And more text. And more text. And more\n",
            "text. Oh, how boring typing this stuff. But not as boring as watching\n",
            "paint dry. And more text. And more text. And more text. And more text.\n",
            "Boring. More, a little more text. The end, and just as well.\n",
            "A Simple PDF File\n",
            "This is a small demonstration .pdf file -\n",
            "just for use in the Virtual Mechanics tutorials. More text. And more\n",
            "text. And more text. And more text. And more text.\n",
            "And more text. And more text. And more text. And more text. And more\n",
            "text. And more text. Boring, zzzzz. And more text. And more text. And\n",
            "more text. And more text. And more text. And more text. And more text.\n",
            "And more text. And more text.\n",
            "And more text. And more text. And more text. And more text. And more\n",
            "text. And more text. And more text. Even more. Continued on page 2 ...\n",
            "\n"
          ]
        }
      ],
      "source": [
        "# Convert PDF to Text using PyPDF2\n",
        "PDF_text = ''\n",
        "begin_page = 0\n",
        "final_page = 1\n",
        "\n",
        "for page_index in range(begin_page - 1, final_page):\n",
        "   page = pdf_data[page_index]\n",
        "   PDF_text += page\n",
        "\n",
        "# Print the content to check for accuracy\n",
        "print(PDF_text)"
      ]
    },
    {
      "cell_type": "code",
      "execution_count": 22,
      "metadata": {
        "id": "pEhsLHX5hJUG"
      },
      "outputs": [],
      "source": [
        "# Convert Text to MP3 using gTTS\n",
        "audio_book = gTTS(text=PDF_text,lang=\"en\") \n",
        "audio_book.save(\"./output/Audiobook.mp3\")"
      ]
    }
  ],
  "metadata": {
    "colab": {
      "collapsed_sections": [],
      "name": "PDF to Audiobook.ipynb",
      "provenance": []
    },
    "kernelspec": {
      "display_name": "Python 3",
      "language": "python",
      "name": "python3"
    },
    "language_info": {
      "codemirror_mode": {
        "name": "ipython",
        "version": 3
      },
      "file_extension": ".py",
      "mimetype": "text/x-python",
      "name": "python",
      "nbconvert_exporter": "python",
      "pygments_lexer": "ipython3",
      "version": "3.8.5-final"
    }
  },
  "nbformat": 4,
  "nbformat_minor": 0
}