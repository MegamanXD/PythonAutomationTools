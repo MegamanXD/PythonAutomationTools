{
  "cells": [
    {
      "cell_type": "markdown",
      "metadata": {
        "id": "srWSwWnavszo"
      },
      "source": [
        "# **Note**"
      ]
    },
    {
      "cell_type": "markdown",
      "metadata": {
        "id": "AAjRek5xvc-o"
      },
      "source": [
        "This notebook is written for Google Colab, so it should be run in Google Colab."
      ]
    },
    {
      "cell_type": "markdown",
      "metadata": {
        "id": "FhyyrEJkvWB4"
      },
      "source": [
        "# **Audio downloader (mp3)**"
      ]
    },
    {
      "cell_type": "code",
      "execution_count": 1,
      "metadata": {
        "colab": {
          "base_uri": "https://localhost:8080/",
          "height": 221
        },
        "id": "do7Lao0KLzkY",
        "outputId": "e39fe811-2b0c-4182-fda8-255f92b8b848"
      },
      "outputs": [
        {
          "name": "stdout",
          "output_type": "stream",
          "text": [
            "\n",
            "\n",
            "\n",
            "ffmpeg is already the newest version (7:4.2.4-1ubuntu0.1).\n",
            "0 upgraded, 0 newly installed, 0 to remove and 0 not upgraded.\n",
            "Defaulting to user installation because normal site-packages is not writeable\n",
            "Requirement already satisfied: youtube-dl in /home/minh/.local/lib/python3.8/site-packages (2021.3.3)\n",
            "[youtube] 2kJf6UjXLQA: Downloading webpage\n",
            "[youtube] 2kJf6UjXLQA: Downloading player d29f3109\n",
            "[download] Destination: ./output/audio.webm\n",
            "[download] 100% of 1.32MiB in 00:00\n",
            "[ffmpeg] Correcting container in \"./output/audio.webm\"\n",
            "[ffmpeg] Destination: ./output/audio.mp3\n",
            "Deleting original file ./output/audio.webm (pass -k to keep)\n"
          ]
        }
      ],
      "source": [
        "# Install all dependencies\n",
        "!apt install -y ffmpeg\n",
        "!pip install youtube-dl\n",
        "\n",
        "# Import youtube downloader\n",
        "from youtube_dl import YoutubeDL\n",
        "\n",
        "# Define the settings for youtube downloader\n",
        "DOWNLOAD_SETTINGS = {\n",
        "    'outtmpl': './output/audio.webm',\n",
        "    'format': 'bestaudio/best',\n",
        "    'postprocessors': [{\n",
        "        'key': 'FFmpegExtractAudio',\n",
        "        'preferredcodec': 'mp3',\n",
        "        'preferredquality': '320',\n",
        "    }],\n",
        "}\n",
        "\n",
        "# Ask user for YouTube link\n",
        "link = input(\"Insert the link: \")\n",
        "\n",
        "# Download the YouTube video to Google Cloud\n",
        "with YoutubeDL(DOWNLOAD_SETTINGS) as downloader:\n",
        "    downloader.download([link])"
      ]
    },
    {
      "cell_type": "markdown",
      "metadata": {
        "id": "CUupHfAJv0Q0"
      },
      "source": [
        "# **Video downloader (mp4)**"
      ]
    },
    {
      "cell_type": "code",
      "execution_count": 2,
      "metadata": {
        "colab": {
          "base_uri": "https://localhost:8080/",
          "height": 85
        },
        "id": "Gyfu6faMv9zm",
        "outputId": "72afd571-b767-47d7-c250-53ef166122df"
      },
      "outputs": [
        {
          "name": "stdout",
          "output_type": "stream",
          "text": [
            "Defaulting to user installation because normal site-packages is not writeable\n",
            "Requirement already satisfied: pytube in /home/minh/.local/lib/python3.8/site-packages (10.5.3)\n",
            "Requirement already satisfied: typing-extensions in /home/minh/.local/lib/python3.8/site-packages (from pytube) (3.7.4.3)\n"
          ]
        }
      ],
      "source": [
        "# Install pytube\n",
        "!pip install pytube\n",
        "\n",
        "# Import pytube after installing it\n",
        "import pytube\n",
        "\n",
        "# Prompt user for YouTube link\n",
        "url = input(\"Insert the link: \")\n",
        "\n",
        "# Download the video to Google Cloud\n",
        "youtube_video = pytube.YouTube(url)\n",
        "video = youtube_video.streams.get_highest_resolution()\n",
        "video.download('./output/')\n",
        "\n",
        "# Get the video name\n",
        "video_name = (video.title + \".mp4\").replace(\"'\", \"\")"
      ]
    }
  ],
  "metadata": {
    "colab": {
      "collapsed_sections": [],
      "name": "YouTube downloader.ipynb",
      "provenance": []
    },
    "kernelspec": {
      "display_name": "Python 3",
      "language": "python",
      "name": "python3"
    },
    "language_info": {
      "codemirror_mode": {
        "name": "ipython",
        "version": 3
      },
      "file_extension": ".py",
      "mimetype": "text/x-python",
      "name": "python",
      "nbconvert_exporter": "python",
      "pygments_lexer": "ipython3",
      "version": "3.8.5"
    }
  },
  "nbformat": 4,
  "nbformat_minor": 0
}