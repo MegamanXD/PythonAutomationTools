{
  "cells": [
    {
      "cell_type": "code",
      "execution_count": 1,
      "metadata": {
        "colab": {
          "base_uri": "https://localhost:8080/",
          "height": 68
        },
        "id": "_sBo2c-RxQ0W",
        "outputId": "fbc440d4-d671-4a93-da5c-4fe0b0143950"
      },
      "outputs": [
        {
          "name": "stdout",
          "output_type": "stream",
          "text": [
            "Defaulting to user installation because normal site-packages is not writeable\n",
            "Requirement already satisfied: qrcode in /home/minh/.local/lib/python3.8/site-packages (6.1)\n",
            "Requirement already satisfied: six in /usr/lib/python3/dist-packages (from qrcode) (1.14.0)\n"
          ]
        }
      ],
      "source": [
        "# Install qrcode library if you don't have it yet\n",
        "!pip install qrcode\n",
        "\n",
        "# Import the library into our program\n",
        "from qrcode import QRCode\n",
        "\n",
        "# Customize our QR code\n",
        "qr = QRCode(\n",
        "    version = 1,    # This is about how much data your QR Code can store. Read here for more info https://www.qrcode.com/en/about/version.html\n",
        "    box_size = 8,   # The image size of your QR Code\n",
        "    border = 2,     # The size of empty space around the QR Code\n",
        ")\n",
        "\n",
        "# Ask user for YouTube link\n",
        "link = input(\"Insert the link: \")\n",
        "\n",
        "# Create QRCode and save to the cloud\n",
        "qr.add_data(link)          # Add the URL to our QR Code\n",
        "qr.make(fit = True)       # Autofit the QR Code to our customized settings\n",
        "image = qr.make_image()   # Make the image\n",
        "image.save(\"QRcode.png\")  # Save the image in the cloud"
      ]
    }
  ],
  "metadata": {
    "colab": {
      "collapsed_sections": [],
      "name": "QR Generator.ipynb",
      "provenance": []
    },
    "kernelspec": {
      "display_name": "Python 3",
      "language": "python",
      "name": "python3"
    },
    "language_info": {
      "codemirror_mode": {
        "name": "ipython",
        "version": 3
      },
      "file_extension": ".py",
      "mimetype": "text/x-python",
      "name": "python",
      "nbconvert_exporter": "python",
      "pygments_lexer": "ipython3",
      "version": "3.8.5-final"
    }
  },
  "nbformat": 4,
  "nbformat_minor": 0
}